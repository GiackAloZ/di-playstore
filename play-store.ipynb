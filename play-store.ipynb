{
 "cells": [
  {
   "cell_type": "markdown",
   "metadata": {
    "colab_type": "text",
    "id": "view-in-github"
   },
   "source": [
    "<a href=\"https://colab.research.google.com/github/GiackAloZ/di-playstore/blob/master/play-store.ipynb\" target=\"_parent\"><img src=\"https://colab.research.google.com/assets/colab-badge.svg\" alt=\"Open In Colab\"/></a>"
   ]
  },
  {
   "cell_type": "markdown",
   "metadata": {
    "colab_type": "text",
    "id": "-8snshbRNS0U"
   },
   "source": [
    "# Progetto di DI - Google Play Store: Category Classification\n",
    "\n",
    "Questo progetto prende in esame un dataset ottenuto dal Google Play Store, dove sono state collezionate le informazioni riguardanti piu' di 10.000 app.\n",
    "\n",
    "Lo scopo del progetto e' quello di utilizzare semplici tecniche di NLP per classificare una app nella sua categoria (eg. Game, Social, Art & Design, etc...) a partire dal suo nome.\n",
    "\n",
    "Ho trovato il dataset su Kaggle ed e' consultabile [qui](https://www.kaggle.com/lava18/google-play-store-apps).\n",
    "\n"
   ]
  },
  {
   "cell_type": "markdown",
   "metadata": {
    "colab_type": "text",
    "id": "wM3MQyRZdIEg"
   },
   "source": [
    "## Descrizione del problema e analisi esplorativa\n",
    "\n",
    "Si deve realizzare un modello che, dato il nome di una app, la classifichi in base alla sua categoria tra le varie disponibili (eg. Game, Social, Art & Design, etc...)\n",
    "\n",
    "Per prima cosa, importiamo le librerie che ci serviranno."
   ]
  },
  {
   "cell_type": "code",
   "execution_count": null,
   "metadata": {
    "colab": {},
    "colab_type": "code",
    "id": "BUoEtmyeod1q"
   },
   "outputs": [],
   "source": [
    "# from google.colab import files\n",
    "# files.upload()\n",
    "# ! mkdir ~/.kaggle\n",
    "# ! mv kaggle.json ~/.kaggle\n",
    "# ! chmod 600 ~/.kaggle/kaggle.json"
   ]
  },
  {
   "cell_type": "code",
   "execution_count": null,
   "metadata": {
    "colab": {},
    "colab_type": "code",
    "id": "z6BR-wPFL_3Q"
   },
   "outputs": [],
   "source": [
    "import os\n",
    "\n",
    "import numpy as np\n",
    "import pandas as pd\n",
    "import sklearn as skl\n",
    "import tensorflow.keras as ks\n",
    "import wordcloud\n",
    "import matplotlib.pyplot as plt\n",
    "import seaborn as sns\n",
    "%matplotlib inline\n",
    "\n",
    "#import kaggle\n",
    "\n",
    "from sklearn.feature_extraction.text import CountVectorizer"
   ]
  },
  {
   "cell_type": "markdown",
   "metadata": {
    "colab_type": "text",
    "id": "S9GF1dq3fqaa"
   },
   "source": [
    "Scarichiamo il dataset da kaggle (se non e' gia' presente nella repo o in Colab)"
   ]
  },
  {
   "cell_type": "code",
   "execution_count": null,
   "metadata": {
    "colab": {
     "base_uri": "https://localhost:8080/",
     "height": 136
    },
    "colab_type": "code",
    "id": "rXSYUvDOUEBB",
    "outputId": "b8bbaef7-5c69-4bfd-db18-12917801116e"
   },
   "outputs": [],
   "source": [
    "! kaggle datasets download -d lava18/google-play-store-apps\n",
    "! unzip -n google-play-store-apps.zip"
   ]
  },
  {
   "cell_type": "markdown",
   "metadata": {
    "colab_type": "text",
    "id": "Jr4Q88umf1UY"
   },
   "source": [
    "Carichiamo i dati dal csv `googleplaystore.csv` come un dataframe pandas e diamo un'occhiata alla sua shape e alle prime 5 righe."
   ]
  },
  {
   "cell_type": "code",
   "execution_count": null,
   "metadata": {
    "colab": {
     "base_uri": "https://localhost:8080/",
     "height": 340
    },
    "colab_type": "code",
    "id": "9thdCcFBMFZc",
    "outputId": "17a658cf-1903-427a-8236-f9c7a47ef6f5"
   },
   "outputs": [],
   "source": [
    "apps_data = pd.read_csv(\"googleplaystore.csv\")\n",
    "print(apps_data.shape)\n",
    "apps_data.head(5)"
   ]
  },
  {
   "cell_type": "markdown",
   "metadata": {
    "colab_type": "text",
    "id": "cEuQARvZgEPb"
   },
   "source": [
    "Ci sono numerose informazioni in questo dataset, ma le colonne che andremo a considerare sono due:\n",
    "\n",
    "- `App`, ovvero i nomi delle app\n",
    "- `Category`, la categoria a cui appartiene ogni app\n",
    "\n",
    "Andiamo a osservare quali possono essere le categorie a cui un'applicazione puo' appartenere."
   ]
  },
  {
   "cell_type": "code",
   "execution_count": null,
   "metadata": {
    "colab": {
     "base_uri": "https://localhost:8080/",
     "height": 612
    },
    "colab_type": "code",
    "id": "ym_AnCNoVfl-",
    "outputId": "127b9a61-e09d-473c-d8ff-1b330fb60ccc"
   },
   "outputs": [],
   "source": [
    "apps_data[\"Category\"].value_counts()"
   ]
  },
  {
   "cell_type": "markdown",
   "metadata": {
    "colab_type": "text",
    "id": "D9f8syFTgp7o"
   },
   "source": [
    "C'e' una categoria che probabilemente e' stata inserita per errore, cioe' la categoria identificata con il nome \"1.9\", perche' ha una sola occorrenza. Andiamo a vedere di cosa si tratta."
   ]
  },
  {
   "cell_type": "code",
   "execution_count": null,
   "metadata": {
    "colab": {
     "base_uri": "https://localhost:8080/",
     "height": 114
    },
    "colab_type": "code",
    "id": "1pmtdhXohU1c",
    "outputId": "159e5bca-5316-46cc-e3fe-cd18d57f7190"
   },
   "outputs": [],
   "source": [
    "wrong_data = apps_data[apps_data[\"Category\"] == \"1.9\"]\n",
    "wrong_data"
   ]
  },
  {
   "cell_type": "markdown",
   "metadata": {
    "colab_type": "text",
    "id": "tRa3gHnbhzNM"
   },
   "source": [
    "Sembrerebbe un dato errato, infatti ha tutte le colonne sbagliate o shiftate. Possiamo rimuoverla dal dataset."
   ]
  },
  {
   "cell_type": "code",
   "execution_count": null,
   "metadata": {
    "colab": {},
    "colab_type": "code",
    "id": "CRADU_rSh9wq"
   },
   "outputs": [],
   "source": [
    "apps_data = apps_data[~apps_data.index.isin(wrong_data.index)].reset_index()"
   ]
  },
  {
   "cell_type": "markdown",
   "metadata": {
    "colab_type": "text",
    "id": "kWw0B0X3jYUa"
   },
   "source": [
    "Andiamo ora a visualizzare le categorie in un grafico a barre"
   ]
  },
  {
   "cell_type": "code",
   "execution_count": null,
   "metadata": {
    "colab": {
     "base_uri": "https://localhost:8080/",
     "height": 398
    },
    "colab_type": "code",
    "id": "assh7K8fjrVF",
    "outputId": "5b7fc242-a160-479d-9a64-6e0035339ccf"
   },
   "outputs": [],
   "source": [
    "apps_data[\"Category\"].value_counts().plot.bar()"
   ]
  },
  {
   "cell_type": "markdown",
   "metadata": {
    "colab_type": "text",
    "id": "f-4RxhiPkU-s"
   },
   "source": [
    "Notiamo che le categorie spaziano da molto popolate (eg. FAMILY o GAME) a scarsamente popolate (eg. COMICS o BEAUTY).\n",
    "Questo potrebbe causare problemi durante la fase di apprendimento, ma per adesso ci puo' andare bene."
   ]
  },
  {
   "cell_type": "markdown",
   "metadata": {
    "colab_type": "text",
    "id": "cfu-iQBRmX2B"
   },
   "source": [
    "Vogliamo ora farci un'idea di come sono fatti i nomi delle app. Per fare cio', andiamo a concatenare tutti i nomi in una string `text` per poi creare una `cloudword` di tutti i nomi delle app in modo da osservare a colpo d'occhio quali sono le parole che compaiono piu' spesso."
   ]
  },
  {
   "cell_type": "code",
   "execution_count": null,
   "metadata": {
    "colab": {},
    "colab_type": "code",
    "id": "0lADhlbGYdJU"
   },
   "outputs": [],
   "source": [
    "text = \" \".join(apps_data[\"App\"])"
   ]
  },
  {
   "cell_type": "code",
   "execution_count": null,
   "metadata": {
    "colab": {},
    "colab_type": "code",
    "id": "PO6mDog2bfkf"
   },
   "outputs": [],
   "source": [
    "wc = wordcloud.WordCloud(\n",
    "    width=800, height=800,\n",
    "    background_color=\"white\", max_words=200\n",
    ").generate(text)"
   ]
  },
  {
   "cell_type": "code",
   "execution_count": null,
   "metadata": {
    "colab": {
     "base_uri": "https://localhost:8080/",
     "height": 612
    },
    "colab_type": "code",
    "id": "TIUIHBA1bgOa",
    "outputId": "f8a77aa2-55c9-44ad-dbaf-647881475eff"
   },
   "outputs": [],
   "source": [
    "plt.figure(figsize=(10,10))\n",
    "plt.imshow(wc)"
   ]
  },
  {
   "cell_type": "markdown",
   "metadata": {
    "colab_type": "text",
    "id": "IE7RIKXrnHnu"
   },
   "source": [
    "Notiamo subito che le parole piu' utilizzate sono quelle che ci potevamo aspettare, come \"App\" o \"Mobile\" oppure anche \"Free\"."
   ]
  }
 ],
 "metadata": {
  "colab": {
   "include_colab_link": true,
   "name": "play-store.ipynb",
   "provenance": []
  },
  "kernelspec": {
   "display_name": "Python 3",
   "language": "python",
   "name": "python3"
  },
  "language_info": {
   "codemirror_mode": {
    "name": "ipython",
    "version": 3
   },
   "file_extension": ".py",
   "mimetype": "text/x-python",
   "name": "python",
   "nbconvert_exporter": "python",
   "pygments_lexer": "ipython3",
   "version": "3.7.4"
  }
 },
 "nbformat": 4,
 "nbformat_minor": 1
}
