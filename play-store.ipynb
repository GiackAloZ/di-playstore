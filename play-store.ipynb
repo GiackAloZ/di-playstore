{
  "nbformat": 4,
  "nbformat_minor": 0,
  "metadata": {
    "colab": {
      "name": "play-store.ipynb",
      "provenance": [],
      "toc_visible": true,
      "include_colab_link": true
    },
    "kernelspec": {
      "display_name": "Python 3",
      "language": "python",
      "name": "python3"
    },
    "language_info": {
      "codemirror_mode": {
        "name": "ipython",
        "version": 3
      },
      "file_extension": ".py",
      "mimetype": "text/x-python",
      "name": "python",
      "nbconvert_exporter": "python",
      "pygments_lexer": "ipython3",
      "version": "3.7.4"
    }
  },
  "cells": [
    {
      "cell_type": "markdown",
      "metadata": {
        "id": "view-in-github",
        "colab_type": "text"
      },
      "source": [
        "<a href=\"https://colab.research.google.com/github/GiackAloZ/di-playstore/blob/master/play-store.ipynb\" target=\"_parent\"><img src=\"https://colab.research.google.com/assets/colab-badge.svg\" alt=\"Open In Colab\"/></a>"
      ]
    },
    {
      "cell_type": "markdown",
      "metadata": {
        "colab_type": "text",
        "id": "-8snshbRNS0U"
      },
      "source": [
        "# Progetto di DI - Google Play Store: Category Classification\n",
        "\n",
        "Questo progetto prende in esame un dataset ottenuto dal Google Play Store, dove sono state collezionate le informazioni riguardanti piu' di 10.000 app.\n",
        "\n",
        "Lo scopo del progetto e' quello di utilizzare semplici tecniche di NLP per classificare una app nella sua categoria (eg. Game, Social, Art & Design, etc...) a partire dal suo nome.\n",
        "\n",
        "Ho trovato il dataset su Kaggle ed e' consultabile [qui](https://www.kaggle.com/lava18/google-play-store-apps).\n",
        "\n"
      ]
    },
    {
      "cell_type": "markdown",
      "metadata": {
        "colab_type": "text",
        "id": "wM3MQyRZdIEg"
      },
      "source": [
        "## Descrizione del problema e analisi esplorativa\n",
        "\n",
        "Si deve realizzare un modello che, dato il nome di una app, la classifichi in base alla sua categoria tra le varie disponibili (eg. Game, Social, Art & Design, etc...)"
      ]
    },
    {
      "cell_type": "markdown",
      "metadata": {
        "id": "tSVM421q6Gf1",
        "colab_type": "text"
      },
      "source": [
        "Per prima cosa, importiamo le librerie che ci serviranno."
      ]
    },
    {
      "cell_type": "code",
      "metadata": {
        "colab_type": "code",
        "id": "z6BR-wPFL_3Q",
        "colab": {}
      },
      "source": [
        "import os\n",
        "\n",
        "import numpy as np\n",
        "import pandas as pd\n",
        "import sklearn as skl\n",
        "import tensorflow.keras as ks\n",
        "import wordcloud\n",
        "import matplotlib.pyplot as plt\n",
        "import seaborn as sns\n",
        "import nltk\n",
        "%matplotlib inline\n",
        "\n",
        "from sklearn.feature_extraction.text import CountVectorizer, TfidfVectorizer\n",
        "\n",
        "nltk.download(\"punkt\")\n",
        "nltk.download('averaged_perceptron_tagger')\n",
        "nltk.download(\"stopwords\")\n",
        "nltk.download(\"wordnet\")"
      ],
      "execution_count": null,
      "outputs": []
    },
    {
      "cell_type": "markdown",
      "metadata": {
        "id": "fIR4HLJQ4Vcx",
        "colab_type": "text"
      },
      "source": [
        "### Caricamento e pulizia del dataset"
      ]
    },
    {
      "cell_type": "markdown",
      "metadata": {
        "colab_type": "text",
        "id": "Jr4Q88umf1UY"
      },
      "source": [
        "Carichiamo i dati dal csv `googleplaystore.csv` sulla repo GitHub come un dataframe pandas e diamo un'occhiata alla sua shape e alle prime 5 righe."
      ]
    },
    {
      "cell_type": "code",
      "metadata": {
        "colab_type": "code",
        "id": "9thdCcFBMFZc",
        "colab": {}
      },
      "source": [
        "apps_data = pd.read_csv(\"https://raw.githubusercontent.com/GiackAloZ/di-playstore/master/data/googleplaystore.csv\")\n",
        "print(apps_data.shape)\n",
        "apps_data.head(5)"
      ],
      "execution_count": null,
      "outputs": []
    },
    {
      "cell_type": "markdown",
      "metadata": {
        "colab_type": "text",
        "id": "cEuQARvZgEPb"
      },
      "source": [
        "Ci sono numerose informazioni in questo dataset, ma le colonne che andremo a considerare sono due:\n",
        "\n",
        "- `App`, ovvero i nomi delle app\n",
        "- `Category`, la categoria a cui appartiene ogni app\n",
        "\n",
        "Andiamo a osservare quali possono essere le categorie a cui un'applicazione puo' appartenere."
      ]
    },
    {
      "cell_type": "code",
      "metadata": {
        "colab_type": "code",
        "id": "ym_AnCNoVfl-",
        "colab": {}
      },
      "source": [
        "apps_data[\"Category\"].value_counts()"
      ],
      "execution_count": null,
      "outputs": []
    },
    {
      "cell_type": "markdown",
      "metadata": {
        "colab_type": "text",
        "id": "D9f8syFTgp7o"
      },
      "source": [
        "C'e' una categoria che probabilemente e' stata inserita per errore, cioe' la categoria identificata con il nome \"1.9\", perche' ha una sola occorrenza. Andiamo a vedere di cosa si tratta."
      ]
    },
    {
      "cell_type": "code",
      "metadata": {
        "colab_type": "code",
        "id": "1pmtdhXohU1c",
        "colab": {}
      },
      "source": [
        "wrong_data = apps_data[apps_data[\"Category\"] == \"1.9\"]\n",
        "wrong_data"
      ],
      "execution_count": null,
      "outputs": []
    },
    {
      "cell_type": "markdown",
      "metadata": {
        "colab_type": "text",
        "id": "tRa3gHnbhzNM"
      },
      "source": [
        "Sembrerebbe un dato errato, infatti ha tutte le colonne sbagliate o shiftate. Possiamo rimuoverla dal dataset."
      ]
    },
    {
      "cell_type": "code",
      "metadata": {
        "colab_type": "code",
        "id": "CRADU_rSh9wq",
        "colab": {}
      },
      "source": [
        "apps_data = apps_data[~apps_data.index.isin(wrong_data.index)].reset_index()"
      ],
      "execution_count": null,
      "outputs": []
    },
    {
      "cell_type": "markdown",
      "metadata": {
        "id": "9tcIXnuq4k-U",
        "colab_type": "text"
      },
      "source": [
        "### Analisi esplorativa delle feature utilizzate"
      ]
    },
    {
      "cell_type": "markdown",
      "metadata": {
        "colab_type": "text",
        "id": "kWw0B0X3jYUa"
      },
      "source": [
        "Andiamo ora a visualizzare le categorie in un grafico a barre e in un grafico a torta."
      ]
    },
    {
      "cell_type": "code",
      "metadata": {
        "colab_type": "code",
        "id": "assh7K8fjrVF",
        "colab": {}
      },
      "source": [
        "apps_data[\"Category\"].value_counts().plot.bar()"
      ],
      "execution_count": null,
      "outputs": []
    },
    {
      "cell_type": "code",
      "metadata": {
        "id": "saDDDJgqKlHL",
        "colab_type": "code",
        "colab": {}
      },
      "source": [
        "plt.figure(figsize=(10,10))\n",
        "apps_data[\"Category\"].value_counts().plot.pie()"
      ],
      "execution_count": null,
      "outputs": []
    },
    {
      "cell_type": "markdown",
      "metadata": {
        "colab_type": "text",
        "id": "f-4RxhiPkU-s"
      },
      "source": [
        "Notiamo che le categorie spaziano da molto popolate (eg. FAMILY o GAME) a scarsamente popolate (eg. COMICS o BEAUTY).\n",
        "Questo potrebbe causare problemi di sbilanciamento di classi."
      ]
    },
    {
      "cell_type": "markdown",
      "metadata": {
        "colab_type": "text",
        "id": "cfu-iQBRmX2B"
      },
      "source": [
        "Vogliamo ora farci un'idea di come sono fatti i nomi delle app. Per fare cio', andiamo a concatenare tutti i nomi in una string `text` per poi creare una `cloudword` di tutti i nomi delle app in modo da osservare a colpo d'occhio quali sono le parole che compaiono piu' spesso."
      ]
    },
    {
      "cell_type": "code",
      "metadata": {
        "colab_type": "code",
        "id": "0lADhlbGYdJU",
        "colab": {}
      },
      "source": [
        "text = \" \".join(apps_data[\"App\"])"
      ],
      "execution_count": null,
      "outputs": []
    },
    {
      "cell_type": "code",
      "metadata": {
        "colab_type": "code",
        "id": "PO6mDog2bfkf",
        "colab": {}
      },
      "source": [
        "wc = wordcloud.WordCloud(\n",
        "    width=800, height=800,\n",
        "    background_color=\"white\", max_words=200\n",
        ").generate(text)"
      ],
      "execution_count": null,
      "outputs": []
    },
    {
      "cell_type": "code",
      "metadata": {
        "colab_type": "code",
        "id": "TIUIHBA1bgOa",
        "colab": {}
      },
      "source": [
        "plt.figure(figsize=(10,10))\n",
        "plt.imshow(wc)"
      ],
      "execution_count": null,
      "outputs": []
    },
    {
      "cell_type": "markdown",
      "metadata": {
        "colab_type": "text",
        "id": "IE7RIKXrnHnu"
      },
      "source": [
        "Notiamo subito che le parole piu' utilizzate sono quelle che ci potevamo aspettare, come \"App\" o \"Mobile\" oppure anche \"Free\"."
      ]
    },
    {
      "cell_type": "markdown",
      "metadata": {
        "id": "eAmLNljL5DwN",
        "colab_type": "text"
      },
      "source": [
        "### Correlazione tra categoria di appartenenza e nomi delle app"
      ]
    },
    {
      "cell_type": "markdown",
      "metadata": {
        "id": "ILIT-yp_5Cix",
        "colab_type": "text"
      },
      "source": [
        "Andiamo ora a ottenere le top 5 parole per ogni categoria.\n",
        "Per farlo, raggruppiamo il dataset per categoria e concateniamo i nomi delle app."
      ]
    },
    {
      "cell_type": "code",
      "metadata": {
        "id": "niD6gtwIumvw",
        "colab_type": "code",
        "colab": {}
      },
      "source": [
        "names_category = apps_data.groupby(\"Category\")[\"App\"].agg(\" \".join)\n",
        "names_category.head(5)"
      ],
      "execution_count": null,
      "outputs": []
    },
    {
      "cell_type": "markdown",
      "metadata": {
        "id": "qQHCmCWS0HRj",
        "colab_type": "text"
      },
      "source": [
        "Poi andiamo a contare le frequenze delle parole di ogni categoria in una BagOfWords utilizzando `CountVectorizer`"
      ]
    },
    {
      "cell_type": "code",
      "metadata": {
        "id": "g5l0iZBX0TjO",
        "colab_type": "code",
        "colab": {}
      },
      "source": [
        "vect = CountVectorizer()\n",
        "bow = vect.fit_transform(names_category)\n",
        "bow.shape"
      ],
      "execution_count": null,
      "outputs": []
    },
    {
      "cell_type": "markdown",
      "metadata": {
        "id": "dP8WnMIT0aP-",
        "colab_type": "text"
      },
      "source": [
        "Ok, il `CountVectorizer` ha rilevato 8714 diverse parole. Ora andiamo a ordinarle per frequenza definendo una funzione che ci restituisce le k parole piu' frequenti in una categoria."
      ]
    },
    {
      "cell_type": "code",
      "metadata": {
        "id": "VL3xrGq8tj7j",
        "colab_type": "code",
        "colab": {}
      },
      "source": [
        "def most_k_freq(cat_freqs, vect, k=1):\n",
        "  word_freqs = [(word, cat_freqs[0, i]) for word, i in vect.vocabulary_.items()]\n",
        "  word_freqs_sorted = sorted(word_freqs, key=lambda x: x[1], reverse=True)\n",
        "  return word_freqs_sorted[:k]"
      ],
      "execution_count": null,
      "outputs": []
    },
    {
      "cell_type": "markdown",
      "metadata": {
        "id": "G9NbwU0S1O60",
        "colab_type": "text"
      },
      "source": [
        "Quindi per ogni riga della BagOfWords andiamo ad estrarre le k parole piu' frequenti.\n",
        "Controlliamo stampando la parole piu' frequenti della prima categoria.\n",
        "Ogni elemento della lista `top_words` e' una tupla con (`word`, `frequency`).\n"
      ]
    },
    {
      "cell_type": "code",
      "metadata": {
        "id": "9EdVk0qXo_RT",
        "colab_type": "code",
        "colab": {}
      },
      "source": [
        "k = 5\n",
        "top_words = [most_k_freq(row, vect, k) for row in bow]\n",
        "print(top_words[0])"
      ],
      "execution_count": null,
      "outputs": []
    },
    {
      "cell_type": "markdown",
      "metadata": {
        "id": "55iwh-E_1zA6",
        "colab_type": "text"
      },
      "source": [
        "Mettiamo il risultato in un dataframe, usando un `MultiIndex` per suddividerlo meglio.\n",
        "Per farlo, dobbiamo prima _flattare_ la lista di liste di tuple `top_words` per renderla una lista di liste."
      ]
    },
    {
      "cell_type": "code",
      "metadata": {
        "id": "dGrb0tbEz2Tm",
        "colab_type": "code",
        "colab": {}
      },
      "source": [
        "top_words_flatten = [[x for y in cat for x in y] for cat in top_words]\n",
        "\n",
        "ranking_labels = np.arange(k) + 1\n",
        "word_labels = [\"word\", \"freq\"]\n",
        "\n",
        "top_words_df = pd.DataFrame(top_words_flatten, \n",
        "             index=names_category.index,\n",
        "             columns=pd.MultiIndex.from_product(\n",
        "                 [ranking_labels, word_labels], names=[\"ranking\", \"word_freq\"]\n",
        "             )\n",
        ")\n",
        "top_words_df.head(5)"
      ],
      "execution_count": null,
      "outputs": []
    },
    {
      "cell_type": "markdown",
      "metadata": {
        "id": "2juz7nNM2yvE",
        "colab_type": "text"
      },
      "source": [
        "Andiamo a guardare le statistiche aggregate del dataframe appena creato."
      ]
    },
    {
      "cell_type": "code",
      "metadata": {
        "id": "sUo5JrdZ2CZD",
        "colab_type": "code",
        "colab": {}
      },
      "source": [
        "top_words_df.describe()"
      ],
      "execution_count": null,
      "outputs": []
    },
    {
      "cell_type": "markdown",
      "metadata": {
        "id": "oYlc0av73S1S",
        "colab_type": "text"
      },
      "source": [
        "Vediamo come la media della parola piu' frequente per ogni categoria e' di circa 50, mentre gia' alla 5a la frequenza media e' di circa 20.\n",
        "\n",
        "Questo nota il fatto che i nomi delle app della stessa categoria sono piu' o meno simili tra loro, o comunque hanno dei termini ricorrenti.\n",
        "Quindi, abbiamo una certa correlazione tra categoria della app e nome di essa."
      ]
    },
    {
      "cell_type": "code",
      "metadata": {
        "id": "YPmMec3a2rIl",
        "colab_type": "code",
        "colab": {}
      },
      "source": [
        ""
      ],
      "execution_count": null,
      "outputs": []
    },
    {
      "cell_type": "markdown",
      "metadata": {
        "id": "zXVq6aS55sIC",
        "colab_type": "text"
      },
      "source": [
        "## Preprocessing, tokenizzazione ed estrazione delle features dai nomi delle app\n",
        "\n",
        "Uno dei passi fondamentali in un problema di NLP e' l'estrazione delle features.\n",
        "\n",
        "TODO"
      ]
    },
    {
      "cell_type": "code",
      "metadata": {
        "id": "aFZ6CqFzGAvx",
        "colab_type": "code",
        "colab": {}
      },
      "source": [
        "vect_no_tok = TfidfVectorizer()\n",
        "X_no_tok = vect_no_tok.fit_transform(apps_data[\"App\"])\n",
        "print(f\"Number of tokens : {len(vect_no_tok.get_feature_names())}\")"
      ],
      "execution_count": null,
      "outputs": []
    },
    {
      "cell_type": "markdown",
      "metadata": {
        "id": "v_q4TgECGGN5",
        "colab_type": "text"
      },
      "source": [
        "Usando il tokenizer di default, abbiamo 8714 token differenti.\n",
        "\n",
        "Possiamo ridurre un po' il numero di token anche senza cambiare il tokenizer, ma solo togliendo quei token che compaiono meno di 3 volte nei nomi delle app.\n",
        "\n"
      ]
    },
    {
      "cell_type": "code",
      "metadata": {
        "id": "pRhFNXnR5-Ag",
        "colab_type": "code",
        "colab": {}
      },
      "source": [
        "vect_no_tok = TfidfVectorizer(min_df=3)\n",
        "X_no_tok = vect_no_tok.fit_transform(apps_data[\"App\"])\n",
        "print(f\"Number of tokens : {len(vect_no_tok.get_feature_names())}\")"
      ],
      "execution_count": null,
      "outputs": []
    },
    {
      "cell_type": "markdown",
      "metadata": {
        "id": "fzp0Lp0GFrB9",
        "colab_type": "text"
      },
      "source": [
        "Gia' togliendo i token con frequenza minore di 3 riduciamo abbondantemente il numero di token da 8714 a 2336 quindi di oltre 3 volte e mezzo.\n",
        "\n",
        "Andiamo ora a provare lo stemming e la lemmatizzazione. Nelle due funzioni filtriamo anche le stepwords considerate tali da `nltk` e consideriamo solo i token che sono alfabetici e che hanno lunghezza maggiore di 1."
      ]
    },
    {
      "cell_type": "code",
      "metadata": {
        "id": "A2aDgknjL0Fy",
        "colab_type": "code",
        "colab": {}
      },
      "source": [
        "def get_tokens_no_stopwords_alpha(texts):\n",
        "  tokens = nltk.tokenize.word_tokenize(texts)\n",
        "  #token filtering (not stopword and alphabetic)\n",
        "  return {token for token in tokens\n",
        "                if token not in nltk.corpus.stopwords.words(\"english\")\n",
        "                   and token.isalpha()}"
      ],
      "execution_count": null,
      "outputs": []
    },
    {
      "cell_type": "code",
      "metadata": {
        "id": "BLaFVGLU9v21",
        "colab_type": "code",
        "colab": {}
      },
      "source": [
        "def tokenizer_stem(app_names):\n",
        "  tokens = get_tokens_no_stopwords_alpha(app_names)\n",
        "  #stemming\n",
        "  stemmer = nltk.stem.PorterStemmer()\n",
        "  stemmed_tokens = {stemmer.stem(token) for token in tokens}\n",
        "  #one-char token removal\n",
        "  return {token for token in stemmed_tokens if len(token) > 1}"
      ],
      "execution_count": null,
      "outputs": []
    },
    {
      "cell_type": "code",
      "metadata": {
        "id": "yV8QPoin-yFb",
        "colab_type": "code",
        "colab": {}
      },
      "source": [
        "vect_stem = TfidfVectorizer(min_df=3, tokenizer=tokenizer_stem)\n",
        "X_stem = vect_stem.fit_transform(apps_data[\"App\"])\n",
        "print(f\"Number of tokens : {len(vect_stem.get_feature_names())}\")"
      ],
      "execution_count": null,
      "outputs": []
    },
    {
      "cell_type": "code",
      "metadata": {
        "id": "WbnYdK9kEsnB",
        "colab_type": "code",
        "colab": {}
      },
      "source": [
        "def tokenizer_lemm(app_names):\n",
        "    tokens = get_tokens_no_stopwords_alpha(app_names)\n",
        "    #lemmatizzazione\n",
        "    lemmatizer = nltk.wordnet.WordNetLemmatizer()\n",
        "    lemmatized_tokens = {lemmatizer.lemmatize(token) for token in tokens}\n",
        "    #one-char token removal\n",
        "    return {token for token in lemmatized_tokens if len(token) > 1}"
      ],
      "execution_count": null,
      "outputs": []
    },
    {
      "cell_type": "code",
      "metadata": {
        "id": "4NzjketXFKb4",
        "colab_type": "code",
        "colab": {}
      },
      "source": [
        "vect_lemm = TfidfVectorizer(min_df=3, tokenizer=tokenizer_lemm)\n",
        "X_lemm = vect_lemm.fit_transform(apps_data[\"App\"])\n",
        "print(f\"Number of tokens : {len(vect_lemm.get_feature_names())}\")"
      ],
      "execution_count": null,
      "outputs": []
    },
    {
      "cell_type": "markdown",
      "metadata": {
        "id": "qtsoKtaRIKxk",
        "colab_type": "text"
      },
      "source": [
        "Non c'e' una grossa differenza usando stemming o lemmatizzazione. Piu' avanti testeremo i vari approci in un GridSearch per vedere quale siano i piu' efficaci.\n",
        "\n",
        "Intanto, andiamo a vedere la lunghezza media dei token dopo lo stemming."
      ]
    },
    {
      "cell_type": "code",
      "metadata": {
        "id": "TToW4shu-6k5",
        "colab_type": "code",
        "colab": {}
      },
      "source": [
        "tokens, indexes = zip(*vect_stem.vocabulary_.items())\n",
        "tokens_df = pd.DataFrame(tokens, columns=[\"token\"], index=indexes)\n",
        "tokens_df[\"length\"] = tokens_df[\"token\"].map(len)\n",
        "tokens_df[\"length\"].describe()"
      ],
      "execution_count": null,
      "outputs": []
    },
    {
      "cell_type": "markdown",
      "metadata": {
        "id": "ZPgKfa_yKDbV",
        "colab_type": "text"
      },
      "source": [
        "E' poco superiore a 5, quindi indica che anche se abbiamo fatto dello stemming, non abbiamo tolto troppo contenuto dalle parole. "
      ]
    },
    {
      "cell_type": "markdown",
      "metadata": {
        "id": "gU9dSpXsLBk2",
        "colab_type": "text"
      },
      "source": [
        "## Generazione di diversi modelli di learning\n",
        "\n",
        "TODO"
      ]
    }
  ]
}